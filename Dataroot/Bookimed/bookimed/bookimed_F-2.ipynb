{
 "cells": [
  {
   "cell_type": "code",
   "execution_count": 12,
   "metadata": {
    "collapsed": false
   },
   "outputs": [],
   "source": [
    "import json\n",
    "import matplotlib.pyplot as plt\n",
    "import numpy as np\n",
    "from sklearn import datasets, linear_model\n",
    "from sklearn import preprocessing\n",
    "from sklearn import cross_validation"
   ]
  },
  {
   "cell_type": "code",
   "execution_count": 13,
   "metadata": {
    "collapsed": false
   },
   "outputs": [],
   "source": [
    "FEATURES = [\n",
    "    \"gd\",\n",
    "    \"ed\",\n",
    "    \"gp\",\n",
    "    \"isr\",\n",
    "#    \"views\", \n",
    "    \"large\", \n",
    "     \"top\", \n",
    "#    \"speed_level\",\n",
    "#    \"speed_level 1\",\n",
    "#    \"speed_level 2\",\n",
    "#    \"speed_level 3\",\n",
    "    \"price\"]"
   ]
  },
  {
   "cell_type": "code",
   "execution_count": 14,
   "metadata": {
    "collapsed": true
   },
   "outputs": [],
   "source": [
    "def get_speed_level(speed_level):\n",
    "    if speed_level == 1:\n",
    "        return  [1]\n",
    "        #return [1,0,0]\n",
    "        #print X[-1], speed_level\n",
    "    elif speed_level == 2:\n",
    "        return [0.4]\n",
    "        #return [0,1,0]\n",
    "        #print X[-1], speed_level\n",
    "    elif speed_level == 3:\n",
    "        return [0.1]\n",
    "        #return [0,0,1]\n",
    "        #print X[-1], speed_level\n",
    "    else:\n",
    "        return [0]\n",
    "        #return [0,0,0]\n",
    "        #print X[-1], speed_level"
   ]
  },
  {
   "cell_type": "code",
   "execution_count": 15,
   "metadata": {
    "collapsed": false
   },
   "outputs": [],
   "source": [
    "def extract_data(clinic, clinic_estim):\n",
    "    all_proc = clinic['procedures']['diagnostics'] + clinic['procedures']['operations']\n",
    "    all_doc = clinic['doctors']\n",
    "    X = []\n",
    "    for doc in all_doc:\n",
    "        X+=[[]]\n",
    "        #gd 0-7\n",
    "        X[-1]+=[doc['degree'].count(u'Профессор')]\n",
    "        X[-1]+=[int(doc['top'])]\n",
    "        X[-1]+=[len(doc['illnesses'])]\n",
    "        X[-1]+=[len(doc['languages'])]\n",
    "        X[-1]+=[int(doc['h_index'])]\n",
    "        X[-1]+=[int(doc['experience'])]\n",
    "        X[-1]+=[1]\n",
    "        #ed 7-12\n",
    "        ids_diad = [i['id'] for i in doc['procedures']['diagnostics'] if i['top']=='1']\n",
    "        ids_oper = [i['id'] for i in doc['procedures']['operations'] if i['top']=='1']\n",
    "        X[-1]+=[len(list(set(ids_diad)))]\n",
    "        X[-1]+=[len(doc['procedures']['diagnostics'])]\n",
    "        X[-1]+=[len(list(set(ids_oper)))]\n",
    "        X[-1]+=[len(doc['procedures']['operations'])]\n",
    "        X[-1]+=[1]\n",
    "        #gp 12-16\n",
    "        X[-1]+=[sum([int(i['top']) for i in all_proc])] #top_proc_cli\n",
    "        X[-1]+=[len(all_proc)] #gen_proc_cli\n",
    "        X[-1]+=[sum([int(i['top']) for i in clinic['procedures']['operations']])] #top_oper_cli\n",
    "        X[-1]+=[len(clinic['procedures']['operations'])] #gen_oper_cli\n",
    "        #\n",
    "        c_id = int(clinic['country_id'])\n",
    "        if c_id == 1:\n",
    "            X[-1]+=[1]\n",
    "        else:\n",
    "            X[-1]+=[0]\n",
    "        #X[-1]+=[int(clinic['views'])]\n",
    "        X[-1]+=[int(clinic['large'])]\n",
    "        X[-1]+=[int(clinic['top'])]\n",
    "        #X[-1]+=[get_speed_level(int(clinic['speed_level']))]\n",
    "        X[-1]+=[round(1-int(clinic_estim['price'])/10.0,4)]\n",
    "        \n",
    "    y=[int(clinic_estim['rating'])] * len(all_doc)\n",
    "    return [X, y]"
   ]
  },
  {
   "cell_type": "code",
   "execution_count": 16,
   "metadata": {
    "collapsed": true
   },
   "outputs": [],
   "source": [
    "def get_X_y_from(t_data):\n",
    "    clinic_ids = [i['id'] for i in t_data]\n",
    "    t_cleaned_data = [extract_data(cancer_data[clinic_ids.index(i['id'])], i) for i in estims_data]\n",
    "    X = sum([i[0] for i in t_cleaned_data],[])\n",
    "    y = sum([i[1] for i in t_cleaned_data],[])\n",
    "    return X,y"
   ]
  },
  {
   "cell_type": "code",
   "execution_count": 17,
   "metadata": {
    "collapsed": true
   },
   "outputs": [],
   "source": [
    "def normale(mat):\n",
    "    for i in range(0,len(mat[0])-1):\n",
    "        mass = [abs(k[i]) for k in mat]\n",
    "        m = max(mass)\n",
    "        if m>0:\n",
    "            for j in mat:\n",
    "                j[i] = round(j[i] / float(m), 4)"
   ]
  },
  {
   "cell_type": "code",
   "execution_count": 18,
   "metadata": {
    "collapsed": false
   },
   "outputs": [],
   "source": [
    "def pack(X):\n",
    "    gd = [0.06, 0.223, 0.372, 0.196, -0.135, 0.426, 8.37]\n",
    "    ed = [-2.82, -1.104, 0.827, 0.96, 9.471]\n",
    "    gp = [-3.094, -7.545, 11.025, 9.011]\n",
    "    new_X = []\n",
    "    for x in X:\n",
    "        new_X+= [sum([\n",
    "            [round(sum(np.array(gd)*np.array(x[0:7])),5)],\n",
    "            [round(sum(np.array(ed)*np.array(x[7:12])),5)],\n",
    "            [round(sum(np.array(gp)*np.array(x[12:16])),5)],\n",
    "            x[16:]\n",
    "        ],[])]\n",
    "    return new_X"
   ]
  },
  {
   "cell_type": "code",
   "execution_count": 19,
   "metadata": {
    "collapsed": true
   },
   "outputs": [],
   "source": [
    "def process_with(X,y, info=False, short=False, return_short = False, new_coef = [], ts=0.2):\n",
    "    train_X, test_X, train_y, test_y = cross_validation.train_test_split(X, y, test_size = ts, random_state = 3)\n",
    "    regr = linear_model.LinearRegression(fit_intercept=True, normalize=True)\n",
    "    if new_coef != []:\n",
    "        print \"new coefs\"\n",
    "        regr.coef_ = new_coef\n",
    "    regr.fit(train_X, train_y)\n",
    "    if info:\n",
    "        print \"Total: %d, train: %d, test: %d\" %(len(X), len(train_X), len(test_X))\n",
    "        print(\"Residual sum of squares: %.2f\"% np.mean((regr.predict(test_X) - test_y) ** 2))\n",
    "        print(\"Train absolute: %.2f\"% np.mean(abs(regr.predict(train_X) - train_y)))\n",
    "        print(\"Test absolute: %.2f\"% np.mean(abs(regr.predict(test_X) - test_y)))\n",
    "        print(\"Absolute to mean: %.2f%%\"% (np.mean(abs(regr.predict(test_X) - test_y))/np.mean(test_y)*100))\n",
    "        print('Train variance score: %.2f' % regr.score(train_X, train_y))\n",
    "        print('Test variance score: %.2f' % regr.score(test_X, test_y))\n",
    "    if short:\n",
    "        print np.mean(abs(regr.predict(test_X) - test_y)),regr.score(test_X, test_y)\n",
    "    if return_short:\n",
    "        return np.mean(abs(regr.predict(test_X) - test_y)),regr.score(test_X, test_y)\n",
    "    return regr"
   ]
  },
  {
   "cell_type": "code",
   "execution_count": 20,
   "metadata": {
    "collapsed": false
   },
   "outputs": [
    {
     "ename": "NameError",
     "evalue": "name 'cancer_data' is not defined",
     "output_type": "error",
     "traceback": [
      "\u001b[1;31m---------------------------------------------------------------------------\u001b[0m",
      "\u001b[1;31mNameError\u001b[0m                                 Traceback (most recent call last)",
      "\u001b[1;32m<ipython-input-20-2741899a27f4>\u001b[0m in \u001b[0;36m<module>\u001b[1;34m()\u001b[0m\n\u001b[1;32m----> 1\u001b[1;33m \u001b[0mX\u001b[0m\u001b[1;33m,\u001b[0m \u001b[0my\u001b[0m \u001b[1;33m=\u001b[0m \u001b[0mget_X_y_from\u001b[0m\u001b[1;33m(\u001b[0m\u001b[0mcancer_data\u001b[0m\u001b[1;33m)\u001b[0m\u001b[1;33m\u001b[0m\u001b[0m\n\u001b[0m",
      "\u001b[1;31mNameError\u001b[0m: name 'cancer_data' is not defined"
     ]
    }
   ],
   "source": [
    "X, y = get_X_y_from(cancer_data)"
   ]
  },
  {
   "cell_type": "code",
   "execution_count": 21,
   "metadata": {
    "collapsed": false
   },
   "outputs": [],
   "source": [
    "X_all, y_all = [], []\n",
    "\n",
    "with open('./max/estims.json') as data_file: \n",
    "    estims_data = json.load(data_file)[2]['clinics']\n",
    "with open('./max/меланома_все.json') as data_file: #2\n",
    "    cancer_data = json.load(data_file)[0]['clinics']\n",
    "X_1, y_1 = get_X_y_from(cancer_data)\n",
    "X_all+=X_1\n",
    "y_all+=y_1\n",
    "    \n",
    "with open('./max/estims.json') as data_file: \n",
    "    estims_data = json.load(data_file)[0]['clinics']\n",
    "with open('./max/рак_груди_все.json') as data_file: #0\n",
    "    cancer_data = json.load(data_file)[0]['clinics']\n",
    "X_2, y_2 = get_X_y_from(cancer_data)\n",
    "X_all+=X_2\n",
    "y_all+=y_2\n",
    "    \n",
    "with open('./max/estims.json') as data_file: \n",
    "    estims_data = json.load(data_file)[4]['clinics']    \n",
    "with open('./max/рак_простаты_все.json') as data_file: #4\n",
    "    cancer_data = json.load(data_file)[0]['clinics']\n",
    "clinic_ids = [i['id'] for i in estims_data]\n",
    "estims_data.pop(clinic_ids.index('0'))\n",
    "X_3, y_3 = get_X_y_from(cancer_data)\n",
    "X_all+=X_3\n",
    "y_all+=y_3\n",
    "\n",
    "with open('./max/estims.json') as data_file: \n",
    "    estims_data = json.load(data_file)[1]['clinics']     \n",
    "with open('./max/рак_шейки_матки_все.json') as data_file: #1\n",
    "    cancer_data = json.load(data_file)[0]['clinics']\n",
    "X_4, y_4 = get_X_y_from(cancer_data)\n",
    "X_all+=X_4\n",
    "y_all+=y_4\n",
    "    \n",
    "with open('./max/estims.json') as data_file: \n",
    "    estims_data = json.load(data_file)[3]['clinics']         \n",
    "with open('./max/рак_щитовидки_все.json') as data_file: #3\n",
    "    cancer_data = json.load(data_file)[0]['clinics']\n",
    "X_5, y_5 = get_X_y_from(cancer_data)\n",
    "X_all+=X_5\n",
    "y_all+=y_5\n",
    "\n",
    "normale(X_all)\n",
    "X_all=pack(X_all)\n",
    "normale(X_all)"
   ]
  },
  {
   "cell_type": "code",
   "execution_count": 26,
   "metadata": {
    "collapsed": false
   },
   "outputs": [
    {
     "name": "stdout",
     "output_type": "stream",
     "text": [
      "35.0\n",
      "51.0\n"
     ]
    }
   ],
   "source": [
    "import pandas as pd\n",
    "data_x = pd.DataFrame.from_records(X_all, columns=FEATURES)\n",
    "data_y = pd.DataFrame()\n",
    "data_y[\"rate\"] = y_all\n",
    "\n",
    "top_count = sum(data_x[\"top\"])\n",
    "large_count = sum(data_x[\"large\"])\n",
    "print top_count\n",
    "print large_count\n",
    "data = data_x\n",
    "data[\"y\"] = data_y[\"rate\"]\n",
    "\n"
   ]
  },
  {
   "cell_type": "code",
   "execution_count": 61,
   "metadata": {
    "collapsed": false
   },
   "outputs": [
    {
     "name": "stdout",
     "output_type": "stream",
     "text": [
      "Index([u'gd', u'ed', u'gp', u'isr', u'large', u'top', u'price', u'y', u'top_or_large'], dtype='object')\n"
     ]
    }
   ],
   "source": [
    "print data.columns\n",
    "\n",
    "data_large = data[data['large'] == 1]\n",
    "\n",
    "data_not_large = data[data['large'] == 0]\n",
    "\n",
    "\n",
    "import matplotlib.pyplot as plt\n",
    "plt.plot(data_large['price'], data_large['y'], 'ro', data_not_large['price'], data_not_large['y'], 'bo')\n",
    "\n",
    "plt.show()\n"
   ]
  },
  {
   "cell_type": "code",
   "execution_count": 29,
   "metadata": {
    "collapsed": true
   },
   "outputs": [
    {
     "name": "stdout",
     "output_type": "stream",
     "text": [
      "Large:\n",
      "y\n",
      "1      2\n",
      "2      3\n",
      "3      1\n",
      "4      2\n",
      "5     11\n",
      "6      8\n",
      "7      3\n",
      "8      4\n",
      "9      4\n",
      "10    13\n",
      "Name: large, dtype: float64\n",
      "Not large:\n",
      "y\n",
      "1    2\n",
      "2    2\n",
      "3    1\n",
      "4    2\n",
      "7    1\n",
      "8    1\n",
      "9    4\n",
      "Name: large, dtype: int64\n",
      "Top:\n",
      "y\n",
      "2      1\n",
      "5     10\n",
      "6      7\n",
      "9      4\n",
      "10    13\n",
      "Name: top, dtype: float64\n",
      "Not top:\n",
      "y\n",
      "1    4\n",
      "2    4\n",
      "3    2\n",
      "4    4\n",
      "5    1\n",
      "6    1\n",
      "7    4\n",
      "8    5\n",
      "9    4\n",
      "Name: top, dtype: int64\n",
      "Israel:\n",
      "y\n",
      "2      1\n",
      "5     10\n",
      "6      7\n",
      "9      4\n",
      "10    13\n",
      "Name: isr, dtype: float64\n",
      "Not Israel:\n",
      "y\n",
      "1    4\n",
      "2    4\n",
      "3    2\n",
      "4    4\n",
      "5    1\n",
      "6    1\n",
      "7    4\n",
      "8    5\n",
      "9    4\n",
      "Name: isr, dtype: int64\n"
     ]
    },
    {
     "name": "stderr",
     "output_type": "stream",
     "text": [
      "/usr/local/lib/python2.7/dist-packages/ipykernel/__main__.py:6: SettingWithCopyWarning: A value is trying to be set on a copy of a slice from a DataFrame.\n",
      "Try using .loc[row_index,col_indexer] = value instead\n",
      "/usr/local/lib/python2.7/dist-packages/ipykernel/__main__.py:18: SettingWithCopyWarning: A value is trying to be set on a copy of a slice from a DataFrame.\n",
      "Try using .loc[row_index,col_indexer] = value instead\n",
      "/usr/local/lib/python2.7/dist-packages/ipykernel/__main__.py:30: SettingWithCopyWarning: A value is trying to be set on a copy of a slice from a DataFrame.\n",
      "Try using .loc[row_index,col_indexer] = value instead\n"
     ]
    }
   ],
   "source": [
    "\n",
    "data_large = data[data['large'] == 1]\n",
    "data_large = data_large.groupby(['y'])['large'].sum()\n",
    "\n",
    "data_not_large = data[data['large'] == 0]\n",
    "data_not_large[\"large\"] = data_not_large[\"large\"].map(lambda x: 1)\n",
    "data_not_large = data_not_large.groupby(['y'])['large'].sum()\n",
    "print \"Large:\"\n",
    "print data_large\n",
    "\n",
    "print \"Not large:\"\n",
    "print data_not_large\n",
    "\n",
    "data_top = data[data['top'] == 1]\n",
    "data_top = data_top.groupby(['y'])['top'].sum()\n",
    "\n",
    "data_not_top = data[data['top'] == 0]\n",
    "data_not_top[\"top\"] = data_not_top[\"top\"].map(lambda x: 1)\n",
    "data_not_top = data_not_top.groupby(['y'])['top'].sum()\n",
    "print \"Top:\"\n",
    "print data_top\n",
    "\n",
    "print \"Not top:\"\n",
    "print data_not_top\n",
    "\n",
    "data_isr = data[data['isr'] == 1]\n",
    "data_isr = data_isr.groupby(['y'])['isr'].sum()\n",
    "\n",
    "data_not_isr = data[data['isr'] == 0]\n",
    "data_not_isr[\"isr\"] = data_not_isr[\"isr\"].map(lambda x: 1)\n",
    "data_not_isr = data_not_isr.groupby(['y'])['isr'].sum()\n",
    "print \"Israel:\"\n",
    "print data_isr\n",
    "\n",
    "print \"Not Israel:\"\n",
    "print data_not_isr"
   ]
  },
  {
   "cell_type": "code",
   "execution_count": 52,
   "metadata": {
    "collapsed": false
   },
   "outputs": [
    {
     "name": "stderr",
     "output_type": "stream",
     "text": [
      "/usr/local/lib/python2.7/dist-packages/ipykernel/__main__.py:7: SettingWithCopyWarning: A value is trying to be set on a copy of a slice from a DataFrame.\n",
      "Try using .loc[row_index,col_indexer] = value instead\n"
     ]
    }
   ],
   "source": [
    "\n"
   ]
  },
  {
   "cell_type": "code",
   "execution_count": 35,
   "metadata": {
    "collapsed": false
   },
   "outputs": [
    {
     "name": "stdout",
     "output_type": "stream",
     "text": [
      "(64, 8)\n"
     ]
    }
   ],
   "source": [
    "import matplotlib.pyplot as plt\n",
    "\n",
    "plt.figure(1)\n",
    "plt.subplot(211)\n",
    "top, = plt.plot(data_top.index, data_top.values, label='Top')\n",
    "not_top, = plt.plot(data_not_top.index, data_not_top.values, label='Not top')\n",
    "plt.legend(handles=[top, not_top])\n",
    "\n",
    "\n",
    "plt.subplot(212)\n",
    "large, = plt.plot(data_large.index, data_large.values, label='Large')\n",
    "not_large, = plt.plot(data_not_large.index, data_not_large.values, label='Not large')\n",
    "plt.legend(handles=[large, not_large])\n",
    "plt.show()\n",
    "\n",
    "plt.figure(2) \n",
    "isr, = plt.plot(data_isr.index, data_isr.values, label='Israel')\n",
    "not_isr, = plt.plot(data_not_isr.index, data_not_isr.values, label='Not Israel')\n",
    "plt.legend(handles=[isr, not_isr])\n",
    "\n",
    "plt.show()\n",
    "\n"
   ]
  },
  {
   "cell_type": "code",
   "execution_count": 12,
   "metadata": {
    "collapsed": true
   },
   "outputs": [
    {
     "name": "stderr",
     "output_type": "stream",
     "text": [
      "/usr/local/lib/python2.7/dist-packages/IPython/core/formatters.py:92: DeprecationWarning: DisplayFormatter._ipython_display_formatter_default is deprecated: use @default decorator instead.\n",
      "  def _ipython_display_formatter_default(self):\n",
      "/usr/local/lib/python2.7/dist-packages/IPython/core/formatters.py:98: DeprecationWarning: DisplayFormatter._formatters_default is deprecated: use @default decorator instead.\n",
      "  def _formatters_default(self):\n",
      "/usr/local/lib/python2.7/dist-packages/IPython/core/formatters.py:677: DeprecationWarning: PlainTextFormatter._deferred_printers_default is deprecated: use @default decorator instead.\n",
      "  def _deferred_printers_default(self):\n",
      "/usr/local/lib/python2.7/dist-packages/IPython/core/formatters.py:669: DeprecationWarning: PlainTextFormatter._singleton_printers_default is deprecated: use @default decorator instead.\n",
      "  def _singleton_printers_default(self):\n",
      "/usr/local/lib/python2.7/dist-packages/IPython/core/formatters.py:672: DeprecationWarning: PlainTextFormatter._type_printers_default is deprecated: use @default decorator instead.\n",
      "  def _type_printers_default(self):\n",
      "/usr/local/lib/python2.7/dist-packages/IPython/core/formatters.py:669: DeprecationWarning: PlainTextFormatter._singleton_printers_default is deprecated: use @default decorator instead.\n",
      "  def _singleton_printers_default(self):\n",
      "/usr/local/lib/python2.7/dist-packages/IPython/core/formatters.py:672: DeprecationWarning: PlainTextFormatter._type_printers_default is deprecated: use @default decorator instead.\n",
      "  def _type_printers_default(self):\n",
      "/usr/local/lib/python2.7/dist-packages/IPython/core/formatters.py:677: DeprecationWarning: PlainTextFormatter._deferred_printers_default is deprecated: use @default decorator instead.\n",
      "  def _deferred_printers_default(self):\n"
     ]
    },
    {
     "data": {
      "text/plain": [
       "7"
      ]
     },
     "execution_count": 12,
     "metadata": {},
     "output_type": "execute_result"
    }
   ],
   "source": [
    "len(X_all[1])"
   ]
  },
  {
   "cell_type": "code",
   "execution_count": 13,
   "metadata": {
    "collapsed": false
   },
   "outputs": [
    {
     "data": {
      "text/plain": [
       "1"
      ]
     },
     "execution_count": 13,
     "metadata": {},
     "output_type": "execute_result"
    }
   ],
   "source": [
    "len(cancer_data[3]['doctors'])"
   ]
  },
  {
   "cell_type": "code",
   "execution_count": 14,
   "metadata": {
    "collapsed": true
   },
   "outputs": [
    {
     "data": {
      "text/plain": [
       "[[0.9756, 0.9695, 1.0, 1.0, 1.0, 1.0, 0.5],\n",
       " [0.9269, 0.9782, 1.0, 1.0, 1.0, 1.0, 0.5],\n",
       " [1.0, 0.8955, 1.0, 1.0, 1.0, 1.0, 0.5],\n",
       " [0.9467, 0.9673, 1.0, 1.0, 1.0, 1.0, 0.5],\n",
       " [0.9225, 0.926, 1.0, 1.0, 1.0, 1.0, 0.5],\n",
       " [0.9164, 0.9827, 1.0, 1.0, 1.0, 1.0, 0.5],\n",
       " [0.895, 0.8628, 0.289, 0.0, 0.0, 0.0, 0.4],\n",
       " [0.8976, 0.9129, 0.1516, 0.0, 1.0, 0.0, 0.3],\n",
       " [0.9465, 1.0, 0.9469, 1.0, 1.0, 1.0, 0.7],\n",
       " [0.9313, 0.9129, 0.9469, 1.0, 1.0, 1.0, 0.7],\n",
       " [0.8798, 0.8606, -0.2452, 0.0, 0.0, 0.0, 0.6],\n",
       " [0.8998, 0.8126, 0.4241, 0.0, 1.0, 0.0, 0.3],\n",
       " [0.9042, 0.8737, -0.14, 0.0, 0.0, 0.0, 0.1],\n",
       " [0.9465, 1.0, 0.9469, 1.0, 1.0, 1.0, 0.6],\n",
       " [0.9354, 0.9673, 0.9469, 1.0, 1.0, 1.0, 0.6],\n",
       " [0.9244, 0.9891, 0.9469, 1.0, 1.0, 1.0, 0.6],\n",
       " [0.9184, 0.9695, 0.9469, 1.0, 1.0, 1.0, 0.6],\n",
       " [0.9261, 0.8715, 0.1516, 0.0, 1.0, 0.0, 0.3],\n",
       " [0.8979, 0.9129, 0.1516, 0.0, 1.0, 0.0, 0.3],\n",
       " [0.9031, 0.8126, 0.1516, 0.0, 1.0, 0.0, 0.3],\n",
       " [0.9756, 0.9695, 1.0, 1.0, 1.0, 1.0, 0.4],\n",
       " [0.9269, 0.9782, 1.0, 1.0, 1.0, 1.0, 0.4],\n",
       " [1.0, 0.8955, 1.0, 1.0, 1.0, 1.0, 0.4],\n",
       " [0.8998, 0.9673, 1.0, 1.0, 1.0, 1.0, 0.4],\n",
       " [0.9467, 0.9673, 1.0, 1.0, 1.0, 1.0, 0.4],\n",
       " [0.9225, 0.926, 1.0, 1.0, 1.0, 1.0, 0.4],\n",
       " [0.8984, 0.9673, 1.0, 1.0, 1.0, 1.0, 0.4],\n",
       " [0.8912, 0.8257, 0.2979, 0.0, 1.0, 0.0, 0.2],\n",
       " [0.907, 0.8104, -0.14, 0.0, 0.0, 0.0, 0.1],\n",
       " [0.9008, 0.8453, -0.14, 0.0, 0.0, 0.0, 0.1],\n",
       " [0.9255, 0.7148, -0.2586, 0.0, 0.0, 0.0, 0.2],\n",
       " [0.9209, 0.852, 0.289, 0.0, 0.0, 0.0, 0.5],\n",
       " [1.0, 0.8955, 1.0, 1.0, 1.0, 1.0, 0.6],\n",
       " [0.947, 0.9457, 1.0, 1.0, 1.0, 1.0, 0.6],\n",
       " [0.9251, 0.9673, 1.0, 1.0, 1.0, 1.0, 0.6],\n",
       " [0.9454, 0.743, 1.0, 1.0, 1.0, 1.0, 0.6],\n",
       " [0.9047, 0.9673, 0.9469, 1.0, 1.0, 1.0, 0.7],\n",
       " [0.9207, 0.9502, 0.9469, 1.0, 1.0, 1.0, 0.7],\n",
       " [0.9465, 1.0, 0.9469, 1.0, 1.0, 1.0, 0.7],\n",
       " [0.9199, 0.6537, 0.1516, 0.0, 1.0, 0.0, 0.3],\n",
       " [0.8981, 0.7017, 0.3373, 0.0, 1.0, 0.0, 0.4],\n",
       " [0.9297, 0.7539, 0.4241, 0.0, 1.0, 0.0, 0.3],\n",
       " [1.0, 0.8955, 1.0, 1.0, 1.0, 1.0, 0.5],\n",
       " [0.9467, 0.9673, 1.0, 1.0, 1.0, 1.0, 0.5],\n",
       " [0.8984, 0.9673, 1.0, 1.0, 1.0, 1.0, 0.5],\n",
       " [0.9365, 0.9604, 1.0, 1.0, 1.0, 1.0, 0.5],\n",
       " [0.9208, 0.8711, 0.9219, 0.0, 0.0, 0.0, 0.2],\n",
       " [0.9261, 0.8715, 0.1516, 0.0, 1.0, 0.0, 0.2],\n",
       " [0.9152, 0.8209, 0.1516, 0.0, 1.0, 0.0, 0.2],\n",
       " [0.9274, 0.7904, 0.289, 0.0, 0.0, 0.0, 0.6],\n",
       " [0.8934, 0.8013, 0.3373, 0.0, 1.0, 0.0, 0.4],\n",
       " [0.9102, 0.8013, 0.2979, 0.0, 1.0, 0.0, 0.1],\n",
       " [0.9297, 0.7926, -0.14, 0.0, 0.0, 0.0, 0.0],\n",
       " [0.9236, 0.8013, 0.2583, 0.0, 0.0, 0.0, 0.6],\n",
       " [0.9465, 1.0, 0.9469, 1.0, 1.0, 1.0, 0.6],\n",
       " [0.9441, 0.8317, 0.4241, 0.0, 1.0, 0.0, 0.3],\n",
       " [0.9611, 0.9891, 1.0, 1.0, 1.0, 1.0, 0.5],\n",
       " [1.0, 0.8955, 1.0, 1.0, 1.0, 1.0, 0.5],\n",
       " [0.9219, 0.9673, 1.0, 1.0, 1.0, 1.0, 0.5],\n",
       " [0.9269, 0.8998, 0.289, 0.0, 0.0, 0.0, 0.6],\n",
       " [0.9031, 0.8126, 0.1516, 0.0, 1.0, 0.0, 0.3],\n",
       " [0.8859, 0.9891, 0.9469, 1.0, 1.0, 1.0, 0.6],\n",
       " [0.8934, 0.9107, 0.4241, 0.0, 1.0, 0.0, 0.3],\n",
       " [0.9008, 0.8453, -0.14, 0.0, 0.0, 0.0, 0.1]]"
      ]
     },
     "execution_count": 14,
     "metadata": {},
     "output_type": "execute_result"
    }
   ],
   "source": [
    "X_all"
   ]
  },
  {
   "cell_type": "code",
   "execution_count": 62,
   "metadata": {
    "collapsed": false
   },
   "outputs": [
    {
     "name": "stdout",
     "output_type": "stream",
     "text": [
      "1\n",
      "Total: 64, train: 57, test: 7\n",
      "Residual sum of squares: 10.50\n",
      "Train absolute: 2.14\n",
      "Test absolute: 2.99\n",
      "Absolute to mean: 46.53%\n",
      "Train variance score: 0.29\n",
      "Test variance score: -0.61\n",
      "\n",
      "2\n",
      "Total: 64, train: 51, test: 13\n",
      "Residual sum of squares: 8.25\n",
      "Train absolute: 2.19\n",
      "Test absolute: 2.59\n",
      "Absolute to mean: 43.16%\n",
      "Train variance score: 0.24\n",
      "Test variance score: 0.06\n",
      "\n",
      "3\n",
      "Total: 64, train: 44, test: 20\n",
      "Residual sum of squares: 8.29\n",
      "Train absolute: 2.23\n",
      "Test absolute: 2.52\n",
      "Absolute to mean: 40.62%\n",
      "Train variance score: 0.27\n",
      "Test variance score: -0.11\n",
      "\n",
      "4\n",
      "Total: 64, train: 38, test: 26\n",
      "Residual sum of squares: 7.19\n",
      "Train absolute: 2.34\n",
      "Test absolute: 2.44\n",
      "Absolute to mean: 38.40%\n",
      "Train variance score: 0.28\n",
      "Test variance score: -0.08\n",
      "\n",
      "5\n",
      "Total: 64, train: 32, test: 32\n",
      "Residual sum of squares: 7.54\n",
      "Train absolute: 2.24\n",
      "Test absolute: 2.29\n",
      "Absolute to mean: 37.33%\n",
      "Train variance score: 0.34\n",
      "Test variance score: -0.10\n",
      "\n",
      "6\n",
      "Total: 64, train: 25, test: 39\n",
      "Residual sum of squares: 7.30\n",
      "Train absolute: 2.19\n",
      "Test absolute: 2.29\n",
      "Absolute to mean: 35.56%\n",
      "Train variance score: 0.31\n",
      "Test variance score: 0.03\n",
      "\n",
      "7\n",
      "Total: 64, train: 19, test: 45\n",
      "Residual sum of squares: 9.50\n",
      "Train absolute: 2.41\n",
      "Test absolute: 2.67\n",
      "Absolute to mean: 42.58%\n",
      "Train variance score: 0.25\n",
      "Test variance score: -0.26\n",
      "\n",
      "8\n",
      "Total: 64, train: 12, test: 52\n",
      "Residual sum of squares: 36.85\n",
      "Train absolute: 1.16\n",
      "Test absolute: 4.28\n",
      "Absolute to mean: 69.26%\n",
      "Train variance score: 0.71\n",
      "Test variance score: -3.80\n",
      "\n",
      "9\n",
      "Total: 64, train: 6, test: 58\n",
      "Residual sum of squares: 26671.55\n",
      "Train absolute: 0.00\n",
      "Test absolute: 111.66\n",
      "Absolute to mean: 1809.06%\n",
      "Train variance score: 1.00\n",
      "Test variance score: -3345.38\n",
      "\n"
     ]
    }
   ],
   "source": [
    "for i in range(1,10):\n",
    "    print i\n",
    "    regr = process_with(X_all, y_all, info=True, ts=i/10.0)\n",
    "    print"
   ]
  },
  {
   "cell_type": "code",
   "execution_count": 79,
   "metadata": {
    "collapsed": false
   },
   "outputs": [
    {
     "name": "stdout",
     "output_type": "stream",
     "text": [
      "[ 0.33150995  0.32088703  0.24251824  0.03595154  0.06913325]\n",
      "['gd', 'ed', 'gp', 'isr', 'large', 'top', 'price']\n"
     ]
    }
   ],
   "source": [
    "from sklearn.ensemble import RandomForestClassifier\n",
    "from sklearn.cross_validation import train_test_split\n",
    "from sklearn.metrics import accuracy_score, precision_score, recall_score\n",
    "from sklearn import linear_model\n",
    "\n",
    "clf = RandomForestClassifier(n_estimators=50)\n",
    "#clf = linear_model.LinearRegression()\n",
    "\n",
    "#X_train, X_test, y_train, y_test = train_test_split(X_all, Y_all, test_size=0.33, random_state=42)\n",
    "#X = X_all[1:3]\n",
    "for row in X_all:\n",
    "    del row[3]\n",
    "    del row[5]\n",
    "\n",
    "\n",
    "clf = clf.fit(X_all, y_all)\n",
    "\n",
    "\"\"\"\n",
    "print '\\n\\nSplitting data to training and test sets:'\n",
    "print ('Mean square error: %.2f' % np.mean((clf.predict(X_test) - y_test)**2))\n",
    "print ('Accuracy score: %f' % accuracy_score(y_test, gbm.predict(X_test)))\n",
    "print ('Precision score: %f' % precision_score(y_test, gbm.predict(X_test),average='binary'))\n",
    "print ('Recall score: %f' % recall_score(y_test, gbm.predict(X_test),average='binary'))\n",
    "\"\"\"\n",
    "importances = clf.feature_importances_\n",
    "print importances\n",
    "print FEATURES\n",
    "#print X_all\n",
    "\n"
   ]
  },
  {
   "cell_type": "code",
   "execution_count": 135,
   "metadata": {
    "collapsed": false
   },
   "outputs": [
    {
     "name": "stdout",
     "output_type": "stream",
     "text": [
      "Total: 64, train: 25, test: 39\n",
      "Residual sum of squares: 7.01\n",
      "Train absolute: 2.37\n",
      "Test absolute: 2.21\n",
      "Absolute to mean: 34.41%\n",
      "Train variance score: 0.27\n",
      "Test variance score: 0.07\n"
     ]
    }
   ],
   "source": [
    "regr = process_with(X_all, y_all, info=True, ts=0.6)"
   ]
  },
  {
   "cell_type": "code",
   "execution_count": 136,
   "metadata": {
    "collapsed": false
   },
   "outputs": [
    {
     "name": "stdout",
     "output_type": "stream",
     "text": [
      "Real: 10.000000 \t Predicted: 7.704660\n",
      "5.9451\n",
      "\n",
      "Real: 10.000000 \t Predicted: 7.070325\n",
      "5.9051\n",
      "\n",
      "Real: 10.000000 \t Predicted: 7.309293\n",
      "5.8955\n",
      "\n",
      "Real: 10.000000 \t Predicted: 7.252825\n",
      "5.914\n",
      "\n",
      "Real: 10.000000 \t Predicted: 6.470389\n",
      "5.8485\n",
      "\n",
      "Real: 10.000000 \t Predicted: 6.960433\n",
      "5.8991\n",
      "\n",
      "Real: 9.000000 \t Predicted: 5.657148\n",
      "2.0468\n",
      "\n",
      "Real: 8.000000 \t Predicted: 5.510347\n",
      "2.9621\n",
      "\n",
      "Real: 6.000000 \t Predicted: 7.315954\n",
      "5.8934\n",
      "\n",
      "Real: 6.000000 \t Predicted: 6.198178\n",
      "5.7911\n",
      "\n",
      "Real: 4.000000 \t Predicted: 2.704850\n",
      "1.4952\n",
      "\n",
      "Real: 3.000000 \t Predicted: 5.895186\n",
      "3.1365\n",
      "\n",
      "Real: 1.000000 \t Predicted: 3.733958\n",
      "1.6379\n",
      "\n",
      "Real: 9.000000 \t Predicted: 7.315954\n",
      "5.8934\n",
      "\n",
      "Real: 9.000000 \t Predicted: 6.816188\n",
      "5.8496\n",
      "\n",
      "Real: 9.000000 \t Predicted: 6.876036\n",
      "5.8604\n",
      "\n",
      "Real: 9.000000 \t Predicted: 6.586185\n",
      "5.8348\n",
      "\n",
      "Real: 7.000000 \t Predicted: 5.509737\n",
      "2.9492\n",
      "\n",
      "Real: 7.000000 \t Predicted: 5.514804\n",
      "2.9624\n",
      "\n",
      "Real: 7.000000 \t Predicted: 4.564887\n",
      "2.8673\n",
      "\n",
      "Real: 5.000000 \t Predicted: 7.704660\n",
      "5.9451\n",
      "\n",
      "Real: 5.000000 \t Predicted: 7.070325\n",
      "5.9051\n",
      "\n",
      "Real: 5.000000 \t Predicted: 7.309293\n",
      "5.8955\n",
      "\n",
      "Real: 5.000000 \t Predicted: 6.556133\n",
      "5.8671\n",
      "\n",
      "Real: 5.000000 \t Predicted: 7.252825\n",
      "5.914\n",
      "\n",
      "Real: 5.000000 \t Predicted: 6.470389\n",
      "5.8485\n",
      "\n",
      "Real: 5.000000 \t Predicted: 6.535336\n",
      "5.8657\n",
      "\n",
      "Real: 4.000000 \t Predicted: 5.262800\n",
      "3.0148\n",
      "\n",
      "Real: 2.000000 \t Predicted: 3.127303\n",
      "1.5774\n",
      "\n",
      "Real: 2.000000 \t Predicted: 3.392610\n",
      "1.6061\n",
      "\n",
      "Real: 9.000000 \t Predicted: 1.822767\n",
      "1.3817\n",
      "\n",
      "Real: 8.000000 \t Predicted: 5.931287\n",
      "2.0619\n",
      "\n",
      "Real: 6.000000 \t Predicted: 7.309293\n",
      "5.8955\n",
      "\n",
      "Real: 6.000000 \t Predicted: 7.036078\n",
      "5.8927\n",
      "\n",
      "Real: 6.000000 \t Predicted: 6.931960\n",
      "5.8924\n",
      "\n",
      "Real: 6.000000 \t Predicted: 4.936481\n",
      "5.6884\n",
      "\n",
      "Real: 5.000000 \t Predicted: 6.360144\n",
      "5.8189\n",
      "\n",
      "Real: 5.000000 \t Predicted: 6.422702\n",
      "5.8178\n",
      "\n",
      "Real: 5.000000 \t Predicted: 7.315954\n",
      "5.8934\n",
      "\n",
      "Real: 4.000000 \t Predicted: 3.187170\n",
      "2.7252\n",
      "\n",
      "Real: 2.000000 \t Predicted: 4.294860\n",
      "2.9371\n",
      "\n",
      "Real: 1.000000 \t Predicted: 5.738206\n",
      "3.1077\n",
      "\n",
      "Real: 10.000000 \t Predicted: 7.309293\n",
      "5.8955\n",
      "\n",
      "Real: 10.000000 \t Predicted: 7.252825\n",
      "5.914\n",
      "\n",
      "Real: 10.000000 \t Predicted: 6.535336\n",
      "5.8657\n",
      "\n",
      "Real: 10.000000 \t Predicted: 7.030644\n",
      "5.8969\n",
      "\n",
      "Real: 9.000000 \t Predicted: 9.328968\n",
      "2.7138\n",
      "\n",
      "Real: 8.000000 \t Predicted: 5.509737\n",
      "2.9492\n",
      "\n",
      "Real: 8.000000 \t Predicted: 4.829630\n",
      "2.8877\n",
      "\n",
      "Real: 7.000000 \t Predicted: 5.397004\n",
      "2.0068\n",
      "\n",
      "Real: 6.000000 \t Predicted: 5.245035\n",
      "3.032\n",
      "\n",
      "Real: 5.000000 \t Predicted: 5.295165\n",
      "3.0094\n",
      "\n",
      "Real: 4.000000 \t Predicted: 3.282220\n",
      "1.5823\n",
      "\n",
      "Real: 3.000000 \t Predicted: 5.296786\n",
      "1.9832\n",
      "\n",
      "Real: 2.000000 \t Predicted: 7.315954\n",
      "5.8934\n",
      "\n",
      "Real: 1.000000 \t Predicted: 6.748857\n",
      "3.1999\n",
      "\n",
      "Real: 10.000000 \t Predicted: 7.689987\n",
      "5.9502\n",
      "\n",
      "Real: 10.000000 \t Predicted: 7.309293\n",
      "5.8955\n",
      "\n",
      "Real: 10.000000 \t Predicted: 6.884425\n",
      "5.8892\n",
      "\n",
      "Real: 9.000000 \t Predicted: 6.509931\n",
      "2.1157\n",
      "\n",
      "Real: 8.000000 \t Predicted: 4.564887\n",
      "2.8673\n",
      "\n",
      "Real: 6.000000 \t Predicted: 6.304124\n",
      "5.8219\n",
      "\n",
      "Real: 2.000000 \t Predicted: 6.804747\n",
      "3.2282\n",
      "\n",
      "Real: 1.000000 \t Predicted: 3.392610\n",
      "1.6061\n",
      "\n"
     ]
    }
   ],
   "source": [
    "import warnings\n",
    "warnings.filterwarnings(\"ignore\")\n",
    "for i in range(0,len(y_all)):    \n",
    "    print \"Real: %f \\t Predicted: %f\" %(y_all[i], regr.predict(X_all[i]))\n",
    "    print sum(X_all[i])\n",
    "    print\n",
    "    #print y_all[i]\n",
    "    #print regr.predict(X_all[i])[0]"
   ]
  },
  {
   "cell_type": "code",
   "execution_count": 117,
   "metadata": {
    "collapsed": false
   },
   "outputs": [
    {
     "name": "stdout",
     "output_type": "stream",
     "text": [
      "Features sorted by their score:\n",
      "-9.60471591456\n",
      "5\n",
      "10.809400 \t gd\n",
      "2.475900 \t ed\n",
      "1.121000 \t gp\n",
      "0.476800 \t large\n",
      "5.097000 \t price\n"
     ]
    }
   ],
   "source": [
    "print \"Features sorted by their score:\"\n",
    "#f = sorted(zip(map(lambda x: round(x, 4), regr.coef_), FEATURES), reverse=True)\n",
    "f = zip(map(lambda x: round(x, 4), regr.coef_), FEATURES)\n",
    "print regr.intercept_\n",
    "print len(FEATURES)\n",
    "for i in f:\n",
    "    print \"%4f \\t %s\" %(i[0], i[1])\n",
    "    #print i[0] #, i[1]"
   ]
  },
  {
   "cell_type": "code",
   "execution_count": null,
   "metadata": {
    "collapsed": false
   },
   "outputs": [],
   "source": [
    "ind = [map(lambda x: x[1], f).index(i) for i in FEATURES]\n",
    "for i in ind:\n",
    "    print i+1"
   ]
  },
  {
   "cell_type": "code",
   "execution_count": 61,
   "metadata": {
    "collapsed": false
   },
   "outputs": [],
   "source": [
    "plt.plot(sorted([i[2] for i in X_all]))\n",
    "plt.show()"
   ]
  },
  {
   "cell_type": "code",
   "execution_count": null,
   "metadata": {
    "collapsed": false
   },
   "outputs": [],
   "source": [
    "print FEATURES[8]\n",
    "[i[22] for i in X]"
   ]
  },
  {
   "cell_type": "code",
   "execution_count": null,
   "metadata": {
    "collapsed": false
   },
   "outputs": [],
   "source": [
    "for k in range(0,26):\n",
    "    print FEATURES[k], 10 - [i[k] for i in X].count(0)"
   ]
  }
 ],
 "metadata": {
  "kernelspec": {
   "display_name": "Python 2",
   "language": "python",
   "name": "python2"
  },
  "language_info": {
   "codemirror_mode": {
    "name": "ipython",
    "version": 2
   },
   "file_extension": ".py",
   "mimetype": "text/x-python",
   "name": "python",
   "nbconvert_exporter": "python",
   "pygments_lexer": "ipython2",
   "version": "2.7.6"
  }
 },
 "nbformat": 4,
 "nbformat_minor": 0
}
